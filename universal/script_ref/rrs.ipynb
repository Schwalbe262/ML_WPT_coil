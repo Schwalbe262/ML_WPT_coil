{
 "cells": [
  {
   "cell_type": "code",
   "execution_count": 6,
   "metadata": {},
   "outputs": [],
   "source": [
    "import yaml\n",
    "import os\n",
    "import subprocess\n",
    "import random\n",
    "import csv\n",
    "import time\n",
    "import numpy as np\n",
    "import math\n",
    "import shutil\n",
    "import pandas as pd\n",
    "\n",
    "\n",
    "import matplotlib.pyplot as plt"
   ]
  },
  {
   "cell_type": "code",
   "execution_count": 7,
   "metadata": {},
   "outputs": [],
   "source": [
    "version_idx_str = \"0\""
   ]
  },
  {
   "cell_type": "code",
   "execution_count": 8,
   "metadata": {},
   "outputs": [],
   "source": [
    "# 1 Set Variable\n",
    "\n",
    "#N1 = round(random.uniform(2.5, 12.5)) # 3~12\n",
    "N1 = 5\n",
    "freq = 30e+3\n",
    "height = 34.2\n",
    "\n",
    "w01 = 1\n",
    "w02 = 1\n",
    "w03 = 1\n",
    "w04 = 1\n",
    "w05 = 1\n",
    "\n",
    "spacex = 10\n",
    "spacey = 10\n",
    "\n",
    "ratiox01 = 1\n",
    "ratiox02 = 2\n",
    "ratiox03 = 3\n",
    "ratiox04 = 4\n",
    "ratiox05 = 5\n",
    "ratiox06 = 6\n",
    "\n",
    "ratioy01 = 1\n",
    "ratioy02 = 2\n",
    "ratioy03 = 3\n",
    "ratioy04 = 4\n",
    "ratioy05 = 5"
   ]
  },
  {
   "cell_type": "code",
   "execution_count": 9,
   "metadata": {},
   "outputs": [],
   "source": [
    "# 2 Config Identifier-Variable set.\n",
    "\n",
    "config = {\n",
    "    \"$VERSION_IDX_STR\"  :   version_idx_str,\n",
    "    \"$N1\"  :  N1,\n",
    "    \"$freq\" : freq,\n",
    "    \"$height\" : height,\n",
    "    \"$spacex\" : spacex,\n",
    "    \"$spacey\" : spacey,\n",
    "    \"$w01\" : w01,\n",
    "    \"$w02\" : w02,\n",
    "    \"$w03\" : w03,\n",
    "    \"$w04\" : w04,\n",
    "    \"$w05\" : w05,\n",
    "    \"$ratiox01\" : ratiox01,\n",
    "    \"$ratiox02\" : ratiox02,\n",
    "    \"$ratiox03\" : ratiox03,\n",
    "    \"$ratiox04\" : ratiox04,\n",
    "    \"$ratiox05\" : ratiox05,\n",
    "    \"$ratiox06\" : ratiox06,\n",
    "    \"$ratioy01\" : ratioy01,\n",
    "    \"$ratioy02\" : ratioy02,\n",
    "    \"$ratioy03\" : ratioy03,\n",
    "    \"$ratioy04\" : ratioy04,\n",
    "    \"$ratioy05\" : ratioy05,\n",
    "\n",
    "    #FIXME : add some idt : variables\n",
    "}"
   ]
  },
  {
   "cell_type": "code",
   "execution_count": 10,
   "metadata": {},
   "outputs": [],
   "source": [
    "#3 Make Folder\n",
    "\n",
    "folder_name = f'SIMUL_{version_idx_str}'\n",
    "os.mkdir(f'.\\ML\\SIMUL_{version_idx_str}')"
   ]
  },
  {
   "cell_type": "code",
   "execution_count": 11,
   "metadata": {},
   "outputs": [],
   "source": [
    "#4 Make Variable info file\n",
    "\n",
    "with open(f'.\\ML\\SIMUL_{version_idx_str}\\info.yaml', \"w\") as info_file:\n",
    "    yaml.dump(config,info_file)"
   ]
  },
  {
   "cell_type": "code",
   "execution_count": 12,
   "metadata": {},
   "outputs": [],
   "source": [
    "#5 Make python script file\n",
    "#Load file string\n",
    "\n",
    "REF_N001 = f'./func_ref/N001_initial.py'\n",
    "REF_N002 = f'./func_ref/N002_variable_N{str(N1).zfill(2)}.py'\n",
    "REF_N003 = f'./func_ref/N003_make_model_N{str(N1).zfill(2)}.py'\n",
    "\n",
    "ref_script_str = \"\"\n",
    "with open(REF_N001) as f :\n",
    "    lines1 = f.readlines()\n",
    "with open(REF_N002) as f :\n",
    "    lines2 = f.readlines()\n",
    "with open(REF_N003) as f :\n",
    "    lines3 = f.readlines()\n",
    "\n",
    "lines = lines1 + lines2 + lines3\n",
    "    \n",
    "ref_script_str = \"\".join(lines)\n",
    "\n",
    "#Change Identifiers\n",
    "for idt, var in config.items() :\n",
    "    ref_script_str = ref_script_str.replace(idt, str(var))\n",
    "\n",
    "#Save file\n",
    "with open(f'.\\\\ML\\\\SIMUL_{version_idx_str}\\\\run_ansys_{version_idx_str}.py',\"w\") as f :\n",
    "    f.write(ref_script_str)"
   ]
  },
  {
   "cell_type": "code",
   "execution_count": 13,
   "metadata": {},
   "outputs": [],
   "source": [
    "#6 make batch file\n",
    "\n",
    "filepath2 = os.path.join('ML',folder_name,f'run_bat_{version_idx_str}.bat')\n",
    "with open(f'.\\\\ML\\\\SIMUL_{version_idx_str}\\\\run_bat_{version_idx_str}.bat',\"w\") as f :\n",
    "    f.write(f'\"C:\\\\Program Files\\\\AnsysEM\\\\AnsysEM21.1\\\\Win64\\\\ansysedt.exe\" -iconic -runscriptandexit \".\\\\ML\\SIMUL_{version_idx_str}\\\\run_ansys_{version_idx_str}.py\"')\n",
    "\n",
    "workingDir = f'.\\\\ML\\\\SIMUL_{version_idx_str}'\n",
    "executeFile = f'.\\\\ML\\\\SIMUL_{version_idx_str}\\\\run_bat_{version_idx_str}.bat'\n",
    "\n"
   ]
  }
 ],
 "metadata": {
  "interpreter": {
   "hash": "3bc87a6c1baa762acb2432f23bd8ebde523bb30795feb16e4094925d47a86dcf"
  },
  "kernelspec": {
   "display_name": "Python 3.8.8 ('NEC_Stable')",
   "language": "python",
   "name": "python3"
  },
  "language_info": {
   "codemirror_mode": {
    "name": "ipython",
    "version": 3
   },
   "file_extension": ".py",
   "mimetype": "text/x-python",
   "name": "python",
   "nbconvert_exporter": "python",
   "pygments_lexer": "ipython3",
   "version": "3.8.8"
  },
  "orig_nbformat": 4
 },
 "nbformat": 4,
 "nbformat_minor": 2
}
