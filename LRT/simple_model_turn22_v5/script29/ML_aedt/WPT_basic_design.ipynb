{
 "cells": [
  {
   "cell_type": "code",
   "execution_count": 22,
   "metadata": {},
   "outputs": [
    {
     "name": "stdout",
     "output_type": "stream",
     "text": [
      "Ltx : 16.37uH\n",
      "Ltx : 13.61uH\n"
     ]
    }
   ],
   "source": [
    "import math\n",
    "\n",
    "# design parameter\n",
    "\n",
    "pi = 3.141592\n",
    "\n",
    "Po = 200e+3 # system output power\n",
    "freq_o = 60e+3 # system operating frequency\n",
    "\n",
    "Vr_dc = 750 # system output voltage (rectified)\n",
    "\n",
    "\n",
    "k = 0.4 # copuling coefficient\n",
    "\n",
    "It_rms = 300 # input current\n",
    "\n",
    "\n",
    "\n",
    "\n",
    "# calculated parameter\n",
    "\n",
    "wo = 2 * pi * freq_o\n",
    "\n",
    "R_dc = Vr_dc**2 / Po\n",
    "Re = R_dc * 8 / pi**2\n",
    "\n",
    "Vr_ac_peak = Vr_dc * 4 / pi\n",
    "Vr_ind = Vr_ac_peak\n",
    "\n",
    "It = It_rms * math.sqrt(2)\n",
    "M = Vr_ind / wo / It\n",
    "\n",
    "\n",
    "# result paremter\n",
    "\n",
    "Lr = Re * 0.9 / wo / k\n",
    "Lt = M**2 / k**2 / Lr\n",
    "\n",
    "\n",
    "print(f'Ltx : {round(Lt*1e+6,2)}uH')\n",
    "print(f'Ltx : {round(Lr*1e+6,2)}uH')"
   ]
  }
 ],
 "metadata": {
  "kernelspec": {
   "display_name": "Python 3.8.8 ('NEC_stable2')",
   "language": "python",
   "name": "python3"
  },
  "language_info": {
   "codemirror_mode": {
    "name": "ipython",
    "version": 3
   },
   "file_extension": ".py",
   "mimetype": "text/x-python",
   "name": "python",
   "nbconvert_exporter": "python",
   "pygments_lexer": "ipython3",
   "version": "3.8.8"
  },
  "orig_nbformat": 4,
  "vscode": {
   "interpreter": {
    "hash": "b6b1c7a2d3fad8a25c21341d84fe5df9142373fe4ffe57093adce8452d3cb408"
   }
  }
 },
 "nbformat": 4,
 "nbformat_minor": 2
}
