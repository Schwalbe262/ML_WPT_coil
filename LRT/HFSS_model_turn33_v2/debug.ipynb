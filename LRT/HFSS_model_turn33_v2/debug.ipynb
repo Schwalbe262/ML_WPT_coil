{
 "cells": [
  {
   "cell_type": "code",
   "execution_count": 3,
   "metadata": {},
   "outputs": [
    {
     "data": {
      "text/plain": [
       "'oModule = oDesign.GetModule(\"Solutions\") \\noModule.EditSources( \\n\\t[\\t\\t[\\t\\t\\t\"UseIncidentVoltage:=\"\\t, False,\\t\\t\\t\"IncludePortPostProcessing:=\", False,\\t\\t\\t\"SpecifySystemPower:=\"\\t, False\\t\\t],\\t\\t[\\t\\t\\t\"Name:=\"\\t\\t, \"Ter_Tx\",\\t\\t\\t\"Terminated:=\"\\t\\t, False,\\t\\t\\t\"Magnitude:=\"\\t\\t, \"{Ltx}e-6*2*pi*freq*$Itx*sqrt(2)V\",\\t\\t\\t\"Phase:=\"\\t\\t, \"0deg\"\\t\\t],\\t\\t[\\t\\t\\t\"Name:=\"\\t\\t, \"Ter_Rx\",\\t\\t\\t\"Terminated:=\"\\t\\t, False,\\t\\t\\t\"Magnitude:=\"\\t\\t, \"{Lrx}e-6*2*pi*freq*$Irx*sqrt(2)V\",\\t\\t\\t\"Phase:=\"\\t\\t, \"90deg\"\\t\\t]\\t])'"
      ]
     },
     "execution_count": 3,
     "metadata": {},
     "output_type": "execute_result"
    }
   ],
   "source": [
    "Ltx = 50\n",
    "Lrx = 30\n",
    "\n",
    "str = \"oModule = oDesign.GetModule(\\\"Solutions\\\") \\n\" + \\\n",
    "\"oModule.EditSources( \\n\"+ \\\n",
    "\"\t[\" + \\\n",
    "\"\t\t[\" + \\\n",
    "\"\t\t\t\\\"UseIncidentVoltage:=\\\"\t, False,\" + \\\n",
    "\"\t\t\t\\\"IncludePortPostProcessing:=\\\", False,\" + \\\n",
    "\"\t\t\t\\\"SpecifySystemPower:=\\\"\t, False\" + \\\n",
    "\"\t\t],\" + \\\n",
    "\"\t\t[\" + \\\n",
    "\"\t\t\t\\\"Name:=\\\"\t\t, \\\"Ter_Tx\\\",\" + \\\n",
    "\"\t\t\t\\\"Terminated:=\\\"\t\t, False,\" + \\\n",
    "\"\t\t\t\\\"Magnitude:=\\\"\t\t, \\\"{Ltx}e-6*2*pi*freq*$Itx*sqrt(2)V\\\",\" + \\\n",
    "\"\t\t\t\\\"Phase:=\\\"\t\t, \\\"0deg\\\"\" + \\\n",
    "\"\t\t],\" + \\\n",
    "\"\t\t[\" + \\\n",
    "\"\t\t\t\\\"Name:=\\\"\t\t, \\\"Ter_Rx\\\",\" + \\\n",
    "\"\t\t\t\\\"Terminated:=\\\"\t\t, False,\" + \\\n",
    "\"\t\t\t\\\"Magnitude:=\\\"\t\t, \\\"{Lrx}e-6*2*pi*freq*$Irx*sqrt(2)V\\\",\" + \\\n",
    "\"\t\t\t\\\"Phase:=\\\"\t\t, \\\"90deg\\\"\" + \\\n",
    "\"\t\t]\" + \\\n",
    "\"\t])\"\n",
    "\n",
    "str"
   ]
  },
  {
   "cell_type": "code",
   "execution_count": null,
   "metadata": {},
   "outputs": [],
   "source": [
    "oModule = oDesign.GetModule(\"Solutions\")\n",
    "oModule.EditSources(\n",
    "\t[\n",
    "\t\t[\n",
    "\t\t\t\"UseIncidentVoltage:=\"\t, False,\n",
    "\t\t\t\"IncludePortPostProcessing:=\", False,\n",
    "\t\t\t\"SpecifySystemPower:=\"\t, False\n",
    "\t\t],\n",
    "\t\t[\n",
    "\t\t\t\"Name:=\"\t\t, \"Ter_Tx\",\n",
    "\t\t\t\"Terminated:=\"\t\t, False,\n",
    "\t\t\t\"Magnitude:=\"\t\t, \"{Ltx}e-6*2*pi*freq*350*sqrt(2)V\",\n",
    "\t\t\t\"Phase:=\"\t\t, \"0deg\"\n",
    "\t\t],\n",
    "\t\t[\n",
    "\t\t\t\"Name:=\"\t\t, \"Ter_Rx\",\n",
    "\t\t\t\"Terminated:=\"\t\t, False,\n",
    "\t\t\t\"Magnitude:=\"\t\t, \"{Lrx}e-6*2*pi*freq*300*sqrt(2)V\",\n",
    "\t\t\t\"Phase:=\"\t\t, \"90deg\"\n",
    "\t\t]\n",
    "\t])"
   ]
  },
  {
   "cell_type": "code",
   "execution_count": null,
   "metadata": {},
   "outputs": [],
   "source": [
    "# Make Tx box\n",
    "oEditor = oDesign.SetActiveEditor(\"3D Modeler\")\n",
    "oEditor.CreateBox(\n",
    "\t[\n",
    "\t\t\"NAME:BoxParameters\",\n",
    "\t\t\"XPosition:=\"\t\t, \"-1/2*width[0]-coil_width[0]/2\",\n",
    "\t\t\"YPosition:=\"\t\t, \"1.5*length[0]/2\",\n",
    "\t\t\"ZPosition:=\"\t\t, \"-air_gap/2 - ferrite_side_height[0] + coil_offset[0]\",\n",
    "\t\t\"XSize:=\"\t\t, \"coil_width[0]\",\n",
    "\t\t\"YSize:=\"\t\t, \"coil_width[0]\",\n",
    "\t\t\"ZSize:=\"\t\t, \"coil_width[0]\"\n",
    "\t], \n",
    "\t[\n",
    "\t\t\"NAME:Attributes\",\n",
    "\t\t\"Name:=\"\t\t, \"tx_box_1\",\n",
    "\t\t\"Flags:=\"\t\t, \"\",\n",
    "\t\t\"Color:=\"\t\t, \"(255 0 0)\",\n",
    "\t\t\"Transparency:=\"\t, 0,\n",
    "\t\t\"PartCoordinateSystem:=\", \"Global\",\n",
    "\t\t\"UDMIZ:=\"\t\t, \"\",\n",
    "\t\t\"MaterialValue:=\"\t, \"\\\"copper\\\"\",\n",
    "\t\t\"SurfaceMaterialValue:=\", \"\\\"\\\"\",\n",
    "\t\t\"SolveInside:=\"\t\t, True,\n",
    "\t\t\"IsMaterialEditable:=\"\t, True,\n",
    "\t\t\"UseMaterialAppearance:=\", False,\n",
    "\t\t\"IsLightweight:=\"\t, False\n",
    "\t])\n",
    "\n",
    "oEditor.CreateBox(\n",
    "\t[\n",
    "\t\t\"NAME:BoxParameters\",\n",
    "\t\t\"XPosition:=\"\t\t, \"-1/2*width[0]-coil_width[0]/2+ 3*(coil_width[0]+turn_width_gap[0])\",\n",
    "\t\t\"YPosition:=\"\t\t, \"1.5*length[0]/2\",\n",
    "\t\t\"ZPosition:=\"\t\t, \"-air_gap/2 - ferrite_side_height[0] + coil_offset[0]\",\n",
    "\t\t\"XSize:=\"\t\t, \"coil_width[0]\",\n",
    "\t\t\"YSize:=\"\t\t, \"coil_width[0]\",\n",
    "\t\t\"ZSize:=\"\t\t, \"coil_width[0]\"\n",
    "\t], \n",
    "\t[\n",
    "\t\t\"NAME:Attributes\",\n",
    "\t\t\"Name:=\"\t\t, \"tx_box_2\",\n",
    "\t\t\"Flags:=\"\t\t, \"\",\n",
    "\t\t\"Color:=\"\t\t, \"(255 0 0)\",\n",
    "\t\t\"Transparency:=\"\t, 0,\n",
    "\t\t\"PartCoordinateSystem:=\", \"Global\",\n",
    "\t\t\"UDMIZ:=\"\t\t, \"\",\n",
    "\t\t\"MaterialValue:=\"\t, \"\\\"copper\\\"\",\n",
    "\t\t\"SurfaceMaterialValue:=\", \"\\\"\\\"\",\n",
    "\t\t\"SolveInside:=\"\t\t, True,\n",
    "\t\t\"IsMaterialEditable:=\"\t, True,\n",
    "\t\t\"UseMaterialAppearance:=\", False,\n",
    "\t\t\"IsLightweight:=\"\t, False\n",
    "\t])\n",
    "\n",
    "oEditor = oDesign.SetActiveEditor(\"3D Modeler\")\n",
    "oEditor.Unite(\n",
    "\t[\n",
    "\t\t\"NAME:Selections\",\n",
    "\t\t\"Selections:=\"\t\t, \"Tx_coil,tx_box_1,tx_box_2\"\n",
    "\t], \n",
    "\t[\n",
    "\t\t\"NAME:UniteParameters\",\n",
    "\t\t\"KeepOriginals:=\"\t, False\n",
    "\t])\n"
   ]
  },
  {
   "cell_type": "code",
   "execution_count": null,
   "metadata": {},
   "outputs": [],
   "source": [
    "# Make Rx box\n",
    "oEditor = oDesign.SetActiveEditor(\"3D Modeler\")\n",
    "oEditor.CreateBox(\n",
    "\t[\n",
    "\t\t\"NAME:BoxParameters\",\n",
    "\t\t\"XPosition:=\"\t\t, \"1/2*width[1]+coil_width[1]/2\",\n",
    "\t\t\"YPosition:=\"\t\t, \"-1.5*length[1]/2\",\n",
    "\t\t\"ZPosition:=\"\t\t, \"air_gap/2 + ferrite_side_height[1] - coil_offset[1]\",\n",
    "\t\t\"XSize:=\"\t\t, \"-coil_width[0]\",\n",
    "\t\t\"YSize:=\"\t\t, \"-coil_width[0]\",\n",
    "\t\t\"ZSize:=\"\t\t, \"-coil_width[0]\"\n",
    "\t], \n",
    "\t[\n",
    "\t\t\"NAME:Attributes\",\n",
    "\t\t\"Name:=\"\t\t, \"rx_box_1\",\n",
    "\t\t\"Flags:=\"\t\t, \"\",\n",
    "\t\t\"Color:=\"\t\t, \"(255 0 0)\",\n",
    "\t\t\"Transparency:=\"\t, 0,\n",
    "\t\t\"PartCoordinateSystem:=\", \"Global\",\n",
    "\t\t\"UDMIZ:=\"\t\t, \"\",\n",
    "\t\t\"MaterialValue:=\"\t, \"\\\"copper\\\"\",\n",
    "\t\t\"SurfaceMaterialValue:=\", \"\\\"\\\"\",\n",
    "\t\t\"SolveInside:=\"\t\t, True,\n",
    "\t\t\"IsMaterialEditable:=\"\t, True,\n",
    "\t\t\"UseMaterialAppearance:=\", False,\n",
    "\t\t\"IsLightweight:=\"\t, False\n",
    "\t])\n",
    "\n",
    "oEditor.CreateBox(\n",
    "\t[\n",
    "\t\t\"NAME:BoxParameters\",\n",
    "\t\t\"XPosition:=\"\t\t, \"1/2*width[1]+coil_width[1]/2- 3*(coil_width[1]+turn_width_gap[1])\",\n",
    "\t\t\"YPosition:=\"\t\t, \"-1.5*length[1]/2\",\n",
    "\t\t\"ZPosition:=\"\t\t, \"air_gap/2 + ferrite_side_height[1] - coil_offset[1]\",\n",
    "\t\t\"XSize:=\"\t\t, \"-coil_width[1]\",\n",
    "\t\t\"YSize:=\"\t\t, \"-coil_width[1]\",\n",
    "\t\t\"ZSize:=\"\t\t, \"-coil_width[1]\"\n",
    "\t], \n",
    "\t[\n",
    "\t\t\"NAME:Attributes\",\n",
    "\t\t\"Name:=\"\t\t, \"rx_box_2\",\n",
    "\t\t\"Flags:=\"\t\t, \"\",\n",
    "\t\t\"Color:=\"\t\t, \"(255 0 0)\",\n",
    "\t\t\"Transparency:=\"\t, 0,\n",
    "\t\t\"PartCoordinateSystem:=\", \"Global\",\n",
    "\t\t\"UDMIZ:=\"\t\t, \"\",\n",
    "\t\t\"MaterialValue:=\"\t, \"\\\"copper\\\"\",\n",
    "\t\t\"SurfaceMaterialValue:=\", \"\\\"\\\"\",\n",
    "\t\t\"SolveInside:=\"\t\t, True,\n",
    "\t\t\"IsMaterialEditable:=\"\t, True,\n",
    "\t\t\"UseMaterialAppearance:=\", False,\n",
    "\t\t\"IsLightweight:=\"\t, False\n",
    "\t])\n",
    "\n",
    "oEditor = oDesign.SetActiveEditor(\"3D Modeler\")\n",
    "oEditor.Unite(\n",
    "\t[\n",
    "\t\t\"NAME:Selections\",\n",
    "\t\t\"Selections:=\"\t\t, \"Rx_coil,rx_box_1,rx_box_2\"\n",
    "\t], \n",
    "\t[\n",
    "\t\t\"NAME:UniteParameters\",\n",
    "\t\t\"KeepOriginals:=\"\t, False\n",
    "\t])"
   ]
  },
  {
   "cell_type": "code",
   "execution_count": 5,
   "metadata": {},
   "outputs": [
    {
     "data": {
      "text/plain": [
       "array([1, 2, 3, 4, 5, 1])"
      ]
     },
     "execution_count": 5,
     "metadata": {},
     "output_type": "execute_result"
    }
   ],
   "source": [
    "import numpy as np\n",
    "\n",
    "a1 = [1,2,3,4,5]\n",
    "b = 1\n",
    "c = 1\n",
    "\n",
    "temp = np.append(a1,b)\n",
    "\n",
    "temp"
   ]
  },
  {
   "cell_type": "code",
   "execution_count": 11,
   "metadata": {},
   "outputs": [
    {
     "data": {
      "text/plain": [
       "array([[3.50000000e+02, 3.00000000e+02, 1.20000000e+02, 2.43000000e+01,\n",
       "        1.13000000e+01, 2.31900000e+03, 1.39300000e+03, 7.42000000e+02,\n",
       "        3.25000000e+02, 2.17000000e+01, 1.31000000e+01, 3.60000000e+01,\n",
       "        1.38000000e+02, 1.10000000e+01, 9.70000000e+01, 9.80000000e+01,\n",
       "        1.19000000e+02, 1.50000000e+02, 5.00000000e+01, 3.00000000e+01,\n",
       "        3.00000000e+01, 3.97184042e+01, 2.41807793e+00, 2.35087401e-01,\n",
       "        8.55586375e+03, 1.94773508e+05],\n",
       "       [3.50000000e+02, 3.00000000e+02, 1.20000000e+02, 2.43000000e+01,\n",
       "        1.13000000e+01, 2.31900000e+03, 1.39300000e+03, 7.42000000e+02,\n",
       "        3.25000000e+02, 2.17000000e+01, 1.31000000e+01, 3.60000000e+01,\n",
       "        1.38000000e+02, 1.10000000e+01, 9.70000000e+01, 9.80000000e+01,\n",
       "        1.19000000e+02, 1.50000000e+02, 5.00000000e+01, 3.00000000e+01,\n",
       "        3.00000000e+01, 3.97184042e+01, 2.41807793e+00, 2.35087401e-01,\n",
       "        8.55586375e+03, 1.94773508e+05]])"
      ]
     },
     "execution_count": 11,
     "metadata": {},
     "output_type": "execute_result"
    }
   ],
   "source": [
    "import pandas as pd\n",
    "\n",
    "temp = np.loadtxt(f'testdata.csv', delimiter=\",\")\n",
    "\n",
    "temp\n",
    "\n",
    "new_data1 = np.vstack((temp, temp))\n",
    "\n",
    "new_data1"
   ]
  },
  {
   "cell_type": "code",
   "execution_count": 13,
   "metadata": {},
   "outputs": [
    {
     "data": {
      "text/plain": [
       "450"
      ]
     },
     "execution_count": 13,
     "metadata": {},
     "output_type": "execute_result"
    }
   ],
   "source": [
    "coil_width_range = [10, 30, 0.1, 1]\n",
    "length_range = [1000, 5000, 1, 0]\n",
    "width_range = [250, 800, 1, 0]\n",
    "coil_offset_range = [1, 30, 0.1, 1]\n",
    "turn_length_gap_range = [5, 100, 1, 0]\n",
    "turn_width_gap_range = [5, 60, 1, 0]\n",
    "ferrite_thick_range = [5, 100, 1, 0]\n",
    "ferrite_length_margin_range = [5, 200, 1, 0]\n",
    "ferrite_width_margin_range = [5, 100, 1, 0]\n",
    "ferrite_side_height_range = [10, 100, 1, 0]\n",
    "ferrite_side_thick_range = [5, 80, 1, 0]\n",
    "air_gap_range = [50, 300, 0.1, 1]\n",
    "current_range = [0, 700, 1, 0]\n",
    "\n",
    "width_range[0] - 5*coil_width_range[1] - 4*turn_width_gap_range[1]\n",
    "length_range[0] - 5*coil_width_range[1] - 4*turn_length_gap_range[1]"
   ]
  }
 ],
 "metadata": {
  "kernelspec": {
   "display_name": "base",
   "language": "python",
   "name": "python3"
  },
  "language_info": {
   "codemirror_mode": {
    "name": "ipython",
    "version": 3
   },
   "file_extension": ".py",
   "mimetype": "text/x-python",
   "name": "python",
   "nbconvert_exporter": "python",
   "pygments_lexer": "ipython3",
   "version": "3.9.7"
  },
  "orig_nbformat": 4,
  "vscode": {
   "interpreter": {
    "hash": "8da4477703876d500cf8baf6994f82f0bcfa0af6be6c87702f8e0e27eb375596"
   }
  }
 },
 "nbformat": 4,
 "nbformat_minor": 2
}
